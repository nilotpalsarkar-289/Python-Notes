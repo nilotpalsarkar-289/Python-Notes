{
 "cells": [
  {
   "cell_type": "code",
   "execution_count": 3,
   "metadata": {},
   "outputs": [],
   "source": [
    "a = 10\n",
    "if a > 10 :\n",
    "    print('this will execute once a greater than 10')"
   ]
  },
  {
   "cell_type": "code",
   "execution_count": 2,
   "metadata": {},
   "outputs": [
    {
     "data": {
      "text/plain": [
       "False"
      ]
     },
     "execution_count": 2,
     "metadata": {},
     "output_type": "execute_result"
    }
   ],
   "source": [
    "a = 10\n",
    "a > 10"
   ]
  },
  {
   "cell_type": "code",
   "execution_count": 4,
   "metadata": {},
   "outputs": [
    {
     "name": "stdout",
     "output_type": "stream",
     "text": [
      "this will execute once if will not be able to perform\n"
     ]
    }
   ],
   "source": [
    "a = 10\n",
    "if a > 10 :\n",
    "    print('this will execute once a greater than 10')\n",
    "else :\n",
    "    print('this will execute once if will not be able to perform')"
   ]
  },
  {
   "cell_type": "code",
   "execution_count": 6,
   "metadata": {},
   "outputs": [
    {
     "name": "stdout",
     "output_type": "stream",
     "text": [
      "this is trying to check condition for a where a could be 10 or lesser\n"
     ]
    }
   ],
   "source": [
    "a = 10\n",
    "if a > 10 :\n",
    "    print('this will execute once a greater than 10')\n",
    "elif a <= 10 :\n",
    "    print('this is trying to check condition for a where a could be 10 or lesser')\n",
    "else :\n",
    "    print('this will execute once if will not be able to perform')"
   ]
  },
  {
   "cell_type": "code",
   "execution_count": 7,
   "metadata": {},
   "outputs": [
    {
     "name": "stdout",
     "output_type": "stream",
     "text": [
      "this is trying to check condition for a where a could be 10 or lesser\n"
     ]
    }
   ],
   "source": [
    "a = int(input('enter a value for a: '))\n",
    "if a > 10 :\n",
    "    print('this will execute once a greater than 10')\n",
    "elif a <= 10 :\n",
    "    print('this is trying to check condition for a where a could be 10 or lesser')\n",
    "else :\n",
    "    print('this will execute once if will not be able to perform')"
   ]
  },
  {
   "cell_type": "code",
   "execution_count": 9,
   "metadata": {},
   "outputs": [
    {
     "name": "stdout",
     "output_type": "stream",
     "text": [
      "1\n",
      "2\n",
      "3\n",
      "4\n",
      "5\n",
      "6\n",
      "7\n",
      "8\n",
      "9\n",
      "this will be executed once while will complete it succesfully\n"
     ]
    }
   ],
   "source": [
    "n = 10\n",
    "i = 1\n",
    "while i<n :\n",
    "    print(i)\n",
    "    i=i+1\n",
    "else:\n",
    "    print('this will be executed once while will complete it succesfully')"
   ]
  },
  {
   "cell_type": "code",
   "execution_count": 12,
   "metadata": {},
   "outputs": [
    {
     "name": "stdout",
     "output_type": "stream",
     "text": [
      "1\n",
      "2\n"
     ]
    }
   ],
   "source": [
    "n = 10\n",
    "i = 1\n",
    "while i<n :\n",
    "    print(i)\n",
    "    i=i+1\n",
    "    if i == 3 :\n",
    "        break\n",
    "else:\n",
    "    print('this will be executed once while will complete it succesfully')"
   ]
  },
  {
   "cell_type": "code",
   "execution_count": 14,
   "metadata": {},
   "outputs": [
    {
     "name": "stdout",
     "output_type": "stream",
     "text": [
      "2\n",
      "4\n",
      "5\n",
      "6\n",
      "7\n",
      "8\n",
      "9\n",
      "10\n",
      "this will be executed once while will complete it succesfully\n"
     ]
    }
   ],
   "source": [
    "n = 10\n",
    "i = 1\n",
    "while i<n :\n",
    "    i=i+1\n",
    "    if i == 3 :\n",
    "        continue\n",
    "    print(i)\n",
    "else:\n",
    "    print('this will be executed once while will complete it succesfully')"
   ]
  },
  {
   "cell_type": "code",
   "execution_count": 15,
   "metadata": {},
   "outputs": [
    {
     "name": "stdout",
     "output_type": "stream",
     "text": [
      "s\n",
      "u\n",
      "d\n",
      "h\n"
     ]
    }
   ],
   "source": [
    "s = 'sudh'\n",
    "for i in s:\n",
    "    print(i)"
   ]
  },
  {
   "cell_type": "code",
   "execution_count": 16,
   "metadata": {},
   "outputs": [],
   "source": [
    "l = [34,56,34,56,'pwskills',True,5+6j]"
   ]
  },
  {
   "cell_type": "code",
   "execution_count": 20,
   "metadata": {},
   "outputs": [
    {
     "name": "stdout",
     "output_type": "stream",
     "text": [
      "34\n",
      "56\n",
      "34\n",
      "56\n",
      "pwskills\n",
      "True\n",
      "(5+6j)\n",
      "this will be executed once for loop will complete itself succesfully\n"
     ]
    }
   ],
   "source": [
    "for j in l:\n",
    "    print(j)\n",
    "else:\n",
    "    print('this will be executed once for loop will complete itself succesfully')"
   ]
  },
  {
   "cell_type": "code",
   "execution_count": 21,
   "metadata": {},
   "outputs": [
    {
     "name": "stdout",
     "output_type": "stream",
     "text": [
      "34\n",
      "56\n",
      "34\n",
      "56\n",
      "pwskills\n"
     ]
    }
   ],
   "source": [
    "for j in l:\n",
    "    print(j)\n",
    "    if j == 'pwskills' :\n",
    "        break\n",
    "else:\n",
    "    print('this will be executed once for loop will complete itself succesfully')"
   ]
  },
  {
   "cell_type": "markdown",
   "metadata": {},
   "source": [
    "## Control Flow\n",
    "### Decision Making Statements\n",
    "* It is thekind of making decision during occured situation of program execution and action can be taken according to specified conditions.\n",
    "    * Structure of decision making evaluate several expressions that provide True or False as a result.\n",
    "    * It is up to you to decide which type of action want to take and execute the statements based upon True and False.\n",
    "**These are several topics of decision making which going to be discussed below:**\n",
    "1. **if**\n",
    "2. **if else**\n",
    "3. **if elif else**\n",
    "4. **Nested if**\n",
    "5. **Single Statement Suites**"
   ]
  },
  {
   "cell_type": "code",
   "execution_count": 1,
   "metadata": {},
   "outputs": [
    {
     "name": "stdout",
     "output_type": "stream",
     "text": [
      "You are eligible to vote\n"
     ]
    }
   ],
   "source": [
    "# If Statements\n",
    "age=18\n",
    "if age>=18:\n",
    "    print('You are eligible to vote')"
   ]
  },
  {
   "cell_type": "code",
   "execution_count": 3,
   "metadata": {},
   "outputs": [
    {
     "name": "stdout",
     "output_type": "stream",
     "text": [
      "You are not eligible to vote\n"
     ]
    }
   ],
   "source": [
    "age=17\n",
    "if age<18:\n",
    "    print('You are not eligible to vote')"
   ]
  },
  {
   "cell_type": "markdown",
   "metadata": {},
   "source": [
    "## Task\n",
    "* Take a input of age\n",
    "* Check whether age >=18 and age <=45\n",
    "* Display a message you are young blood "
   ]
  },
  {
   "cell_type": "code",
   "execution_count": 10,
   "metadata": {},
   "outputs": [
    {
     "name": "stdout",
     "output_type": "stream",
     "text": [
      "you are young blood\n"
     ]
    }
   ],
   "source": [
    "age=int(input('Enter age: '))\n",
    "if age>=18 and age<=32:\n",
    "    print('you are young blood')"
   ]
  },
  {
   "cell_type": "code",
   "execution_count": 12,
   "metadata": {},
   "outputs": [
    {
     "name": "stdout",
     "output_type": "stream",
     "text": [
      "Thank you we will let you know\n"
     ]
    }
   ],
   "source": [
    "# if else statements\n",
    "age=int(input('Enter age: '))\n",
    "if age>=18 and age<=32:\n",
    "    print('you are young blood')\n",
    "else :\n",
    "    print('Thank you we will let you know')"
   ]
  },
  {
   "cell_type": "markdown",
   "metadata": {},
   "source": [
    "## Problem Statement\n",
    "* mall - input the product price\n",
    "* product >1000rs 20% off\n",
    "* print the product price (after discount)\n",
    "* product <=1000rs 30% off\n",
    "* print the product price (after discount)"
   ]
  },
  {
   "cell_type": "code",
   "execution_count": 13,
   "metadata": {},
   "outputs": [
    {
     "name": "stdout",
     "output_type": "stream",
     "text": [
      "the product price is:  4000.0\n"
     ]
    }
   ],
   "source": [
    "price=int(input('enter product price: '))\n",
    "if price>1000 :\n",
    "    newprice=price*0.8\n",
    "    print('the product price is: ',newprice)\n",
    "elif price <=1000 :\n",
    "    newprice1=price*0.7\n",
    "    print('The product price is: ',newprice1)\n",
    "    "
   ]
  },
  {
   "cell_type": "code",
   "execution_count": 15,
   "metadata": {},
   "outputs": [
    {
     "name": "stdout",
     "output_type": "stream",
     "text": [
      "The price of the product is 7.0\n"
     ]
    }
   ],
   "source": [
    "product_price=int(input(\"Enter the price\"))\n",
    "if product_price>1000:\n",
    "    print(\"The price of the product is {}\".format(product_price-(product_price*0.2)))\n",
    "else:\n",
    "    print(\"The price of the product is {}\".format(product_price-(product_price*0.3)))"
   ]
  }
 ],
 "metadata": {
  "kernelspec": {
   "display_name": "Python 3",
   "language": "python",
   "name": "python3"
  },
  "language_info": {
   "codemirror_mode": {
    "name": "ipython",
    "version": 3
   },
   "file_extension": ".py",
   "mimetype": "text/x-python",
   "name": "python",
   "nbconvert_exporter": "python",
   "pygments_lexer": "ipython3",
   "version": "3.11.3"
  },
  "orig_nbformat": 4
 },
 "nbformat": 4,
 "nbformat_minor": 2
}
